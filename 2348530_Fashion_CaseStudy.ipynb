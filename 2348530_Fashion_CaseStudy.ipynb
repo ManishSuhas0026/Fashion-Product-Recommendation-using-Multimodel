{
  "cells": [
    {
      "cell_type": "markdown",
      "metadata": {
        "id": "view-in-github",
        "colab_type": "text"
      },
      "source": [
        "<a href=\"https://colab.research.google.com/github/ManishSuhas0026/Fashion-Product-Recommendation-using-Multimodel/blob/main/2348530_Fashion_CaseStudy.ipynb\" target=\"_parent\"><img src=\"https://colab.research.google.com/assets/colab-badge.svg\" alt=\"Open In Colab\"/></a>"
      ]
    },
    {
      "cell_type": "code",
      "execution_count": null,
      "id": "511e2588-9ea7-45c7-ab4b-3531be89a317",
      "metadata": {
        "id": "511e2588-9ea7-45c7-ab4b-3531be89a317",
        "outputId": "bc57699e-97dc-4248-da77-bc1a134f23e2"
      },
      "outputs": [
        {
          "name": "stdout",
          "output_type": "stream",
          "text": [
            "Requirement already satisfied: transformers in c:\\users\\destop\\anaconda3\\lib\\site-packages (4.40.0)\n",
            "Requirement already satisfied: filelock in c:\\users\\destop\\anaconda3\\lib\\site-packages (from transformers) (3.13.1)\n",
            "Requirement already satisfied: huggingface-hub<1.0,>=0.19.3 in c:\\users\\destop\\anaconda3\\lib\\site-packages (from transformers) (0.22.2)\n",
            "Requirement already satisfied: numpy>=1.17 in c:\\users\\destop\\anaconda3\\lib\\site-packages (from transformers) (1.26.4)\n",
            "Requirement already satisfied: packaging>=20.0 in c:\\users\\destop\\anaconda3\\lib\\site-packages (from transformers) (23.1)\n",
            "Requirement already satisfied: pyyaml>=5.1 in c:\\users\\destop\\anaconda3\\lib\\site-packages (from transformers) (6.0.1)\n",
            "Requirement already satisfied: regex!=2019.12.17 in c:\\users\\destop\\anaconda3\\lib\\site-packages (from transformers) (2023.10.3)\n",
            "Requirement already satisfied: requests in c:\\users\\destop\\anaconda3\\lib\\site-packages (from transformers) (2.31.0)\n",
            "Requirement already satisfied: tokenizers<0.20,>=0.19 in c:\\users\\destop\\anaconda3\\lib\\site-packages (from transformers) (0.19.1)\n",
            "Requirement already satisfied: safetensors>=0.4.1 in c:\\users\\destop\\anaconda3\\lib\\site-packages (from transformers) (0.4.3)\n",
            "Requirement already satisfied: tqdm>=4.27 in c:\\users\\destop\\anaconda3\\lib\\site-packages (from transformers) (4.65.0)\n",
            "Requirement already satisfied: fsspec>=2023.5.0 in c:\\users\\destop\\anaconda3\\lib\\site-packages (from huggingface-hub<1.0,>=0.19.3->transformers) (2023.10.0)\n",
            "Requirement already satisfied: typing-extensions>=3.7.4.3 in c:\\users\\destop\\anaconda3\\lib\\site-packages (from huggingface-hub<1.0,>=0.19.3->transformers) (4.11.0)\n",
            "Requirement already satisfied: colorama in c:\\users\\destop\\anaconda3\\lib\\site-packages (from tqdm>=4.27->transformers) (0.4.6)\n",
            "Requirement already satisfied: charset-normalizer<4,>=2 in c:\\users\\destop\\anaconda3\\lib\\site-packages (from requests->transformers) (2.0.4)\n",
            "Requirement already satisfied: idna<4,>=2.5 in c:\\users\\destop\\anaconda3\\lib\\site-packages (from requests->transformers) (3.4)\n",
            "Requirement already satisfied: urllib3<3,>=1.21.1 in c:\\users\\destop\\anaconda3\\lib\\site-packages (from requests->transformers) (2.0.7)\n",
            "Requirement already satisfied: certifi>=2017.4.17 in c:\\users\\destop\\anaconda3\\lib\\site-packages (from requests->transformers) (2024.2.2)\n",
            "Note: you may need to restart the kernel to use updated packages.\n"
          ]
        }
      ],
      "source": [
        "pip install transformers"
      ]
    },
    {
      "cell_type": "code",
      "execution_count": null,
      "id": "187b3fb1-65a9-4d53-ba03-28cca9939cbb",
      "metadata": {
        "id": "187b3fb1-65a9-4d53-ba03-28cca9939cbb",
        "outputId": "7c2c79a6-3867-4a65-c5e7-948d34f3315a"
      },
      "outputs": [
        {
          "name": "stdout",
          "output_type": "stream",
          "text": [
            "Requirement already satisfied: tf-keras in c:\\users\\destop\\anaconda3\\lib\\site-packages (2.16.0)\n",
            "Requirement already satisfied: tensorflow<2.17,>=2.16 in c:\\users\\destop\\anaconda3\\lib\\site-packages (from tf-keras) (2.16.1)\n",
            "Requirement already satisfied: tensorflow-intel==2.16.1 in c:\\users\\destop\\anaconda3\\lib\\site-packages (from tensorflow<2.17,>=2.16->tf-keras) (2.16.1)\n",
            "Requirement already satisfied: absl-py>=1.0.0 in c:\\users\\destop\\anaconda3\\lib\\site-packages (from tensorflow-intel==2.16.1->tensorflow<2.17,>=2.16->tf-keras) (2.1.0)\n",
            "Requirement already satisfied: astunparse>=1.6.0 in c:\\users\\destop\\anaconda3\\lib\\site-packages (from tensorflow-intel==2.16.1->tensorflow<2.17,>=2.16->tf-keras) (1.6.3)\n",
            "Requirement already satisfied: flatbuffers>=23.5.26 in c:\\users\\destop\\anaconda3\\lib\\site-packages (from tensorflow-intel==2.16.1->tensorflow<2.17,>=2.16->tf-keras) (24.3.7)\n",
            "Requirement already satisfied: gast!=0.5.0,!=0.5.1,!=0.5.2,>=0.2.1 in c:\\users\\destop\\anaconda3\\lib\\site-packages (from tensorflow-intel==2.16.1->tensorflow<2.17,>=2.16->tf-keras) (0.5.4)\n",
            "Requirement already satisfied: google-pasta>=0.1.1 in c:\\users\\destop\\anaconda3\\lib\\site-packages (from tensorflow-intel==2.16.1->tensorflow<2.17,>=2.16->tf-keras) (0.2.0)\n",
            "Requirement already satisfied: h5py>=3.10.0 in c:\\users\\destop\\anaconda3\\lib\\site-packages (from tensorflow-intel==2.16.1->tensorflow<2.17,>=2.16->tf-keras) (3.10.0)\n",
            "Requirement already satisfied: libclang>=13.0.0 in c:\\users\\destop\\anaconda3\\lib\\site-packages (from tensorflow-intel==2.16.1->tensorflow<2.17,>=2.16->tf-keras) (18.1.1)\n",
            "Requirement already satisfied: ml-dtypes~=0.3.1 in c:\\users\\destop\\anaconda3\\lib\\site-packages (from tensorflow-intel==2.16.1->tensorflow<2.17,>=2.16->tf-keras) (0.3.2)\n",
            "Requirement already satisfied: opt-einsum>=2.3.2 in c:\\users\\destop\\anaconda3\\lib\\site-packages (from tensorflow-intel==2.16.1->tensorflow<2.17,>=2.16->tf-keras) (3.3.0)\n",
            "Requirement already satisfied: packaging in c:\\users\\destop\\anaconda3\\lib\\site-packages (from tensorflow-intel==2.16.1->tensorflow<2.17,>=2.16->tf-keras) (23.1)\n",
            "Requirement already satisfied: protobuf!=4.21.0,!=4.21.1,!=4.21.2,!=4.21.3,!=4.21.4,!=4.21.5,<5.0.0dev,>=3.20.3 in c:\\users\\destop\\anaconda3\\lib\\site-packages (from tensorflow-intel==2.16.1->tensorflow<2.17,>=2.16->tf-keras) (3.20.3)\n",
            "Requirement already satisfied: requests<3,>=2.21.0 in c:\\users\\destop\\anaconda3\\lib\\site-packages (from tensorflow-intel==2.16.1->tensorflow<2.17,>=2.16->tf-keras) (2.31.0)\n",
            "Requirement already satisfied: setuptools in c:\\users\\destop\\anaconda3\\lib\\site-packages (from tensorflow-intel==2.16.1->tensorflow<2.17,>=2.16->tf-keras) (68.2.2)\n",
            "Requirement already satisfied: six>=1.12.0 in c:\\users\\destop\\anaconda3\\lib\\site-packages (from tensorflow-intel==2.16.1->tensorflow<2.17,>=2.16->tf-keras) (1.16.0)\n",
            "Requirement already satisfied: termcolor>=1.1.0 in c:\\users\\destop\\anaconda3\\lib\\site-packages (from tensorflow-intel==2.16.1->tensorflow<2.17,>=2.16->tf-keras) (2.4.0)\n",
            "Requirement already satisfied: typing-extensions>=3.6.6 in c:\\users\\destop\\anaconda3\\lib\\site-packages (from tensorflow-intel==2.16.1->tensorflow<2.17,>=2.16->tf-keras) (4.11.0)\n",
            "Requirement already satisfied: wrapt>=1.11.0 in c:\\users\\destop\\anaconda3\\lib\\site-packages (from tensorflow-intel==2.16.1->tensorflow<2.17,>=2.16->tf-keras) (1.14.1)\n",
            "Requirement already satisfied: grpcio<2.0,>=1.24.3 in c:\\users\\destop\\anaconda3\\lib\\site-packages (from tensorflow-intel==2.16.1->tensorflow<2.17,>=2.16->tf-keras) (1.62.1)\n",
            "Requirement already satisfied: tensorboard<2.17,>=2.16 in c:\\users\\destop\\anaconda3\\lib\\site-packages (from tensorflow-intel==2.16.1->tensorflow<2.17,>=2.16->tf-keras) (2.16.2)\n",
            "Requirement already satisfied: keras>=3.0.0 in c:\\users\\destop\\anaconda3\\lib\\site-packages (from tensorflow-intel==2.16.1->tensorflow<2.17,>=2.16->tf-keras) (3.1.1)\n",
            "Requirement already satisfied: tensorflow-io-gcs-filesystem>=0.23.1 in c:\\users\\destop\\anaconda3\\lib\\site-packages (from tensorflow-intel==2.16.1->tensorflow<2.17,>=2.16->tf-keras) (0.31.0)\n",
            "Requirement already satisfied: numpy<2.0.0,>=1.23.5 in c:\\users\\destop\\anaconda3\\lib\\site-packages (from tensorflow-intel==2.16.1->tensorflow<2.17,>=2.16->tf-keras) (1.26.4)\n",
            "Requirement already satisfied: wheel<1.0,>=0.23.0 in c:\\users\\destop\\anaconda3\\lib\\site-packages (from astunparse>=1.6.0->tensorflow-intel==2.16.1->tensorflow<2.17,>=2.16->tf-keras) (0.41.2)\n",
            "Requirement already satisfied: rich in c:\\users\\destop\\anaconda3\\lib\\site-packages (from keras>=3.0.0->tensorflow-intel==2.16.1->tensorflow<2.17,>=2.16->tf-keras) (13.7.1)\n",
            "Requirement already satisfied: namex in c:\\users\\destop\\anaconda3\\lib\\site-packages (from keras>=3.0.0->tensorflow-intel==2.16.1->tensorflow<2.17,>=2.16->tf-keras) (0.0.7)\n",
            "Requirement already satisfied: optree in c:\\users\\destop\\anaconda3\\lib\\site-packages (from keras>=3.0.0->tensorflow-intel==2.16.1->tensorflow<2.17,>=2.16->tf-keras) (0.11.0)\n",
            "Requirement already satisfied: charset-normalizer<4,>=2 in c:\\users\\destop\\anaconda3\\lib\\site-packages (from requests<3,>=2.21.0->tensorflow-intel==2.16.1->tensorflow<2.17,>=2.16->tf-keras) (2.0.4)\n",
            "Requirement already satisfied: idna<4,>=2.5 in c:\\users\\destop\\anaconda3\\lib\\site-packages (from requests<3,>=2.21.0->tensorflow-intel==2.16.1->tensorflow<2.17,>=2.16->tf-keras) (3.4)\n",
            "Requirement already satisfied: urllib3<3,>=1.21.1 in c:\\users\\destop\\anaconda3\\lib\\site-packages (from requests<3,>=2.21.0->tensorflow-intel==2.16.1->tensorflow<2.17,>=2.16->tf-keras) (2.0.7)\n",
            "Requirement already satisfied: certifi>=2017.4.17 in c:\\users\\destop\\anaconda3\\lib\\site-packages (from requests<3,>=2.21.0->tensorflow-intel==2.16.1->tensorflow<2.17,>=2.16->tf-keras) (2024.2.2)\n",
            "Requirement already satisfied: markdown>=2.6.8 in c:\\users\\destop\\anaconda3\\lib\\site-packages (from tensorboard<2.17,>=2.16->tensorflow-intel==2.16.1->tensorflow<2.17,>=2.16->tf-keras) (3.4.1)\n",
            "Requirement already satisfied: tensorboard-data-server<0.8.0,>=0.7.0 in c:\\users\\destop\\anaconda3\\lib\\site-packages (from tensorboard<2.17,>=2.16->tensorflow-intel==2.16.1->tensorflow<2.17,>=2.16->tf-keras) (0.7.2)\n",
            "Requirement already satisfied: werkzeug>=1.0.1 in c:\\users\\destop\\anaconda3\\lib\\site-packages (from tensorboard<2.17,>=2.16->tensorflow-intel==2.16.1->tensorflow<2.17,>=2.16->tf-keras) (2.2.3)\n",
            "Requirement already satisfied: MarkupSafe>=2.1.1 in c:\\users\\destop\\anaconda3\\lib\\site-packages (from werkzeug>=1.0.1->tensorboard<2.17,>=2.16->tensorflow-intel==2.16.1->tensorflow<2.17,>=2.16->tf-keras) (2.1.3)\n",
            "Requirement already satisfied: markdown-it-py>=2.2.0 in c:\\users\\destop\\anaconda3\\lib\\site-packages (from rich->keras>=3.0.0->tensorflow-intel==2.16.1->tensorflow<2.17,>=2.16->tf-keras) (3.0.0)\n",
            "Requirement already satisfied: pygments<3.0.0,>=2.13.0 in c:\\users\\destop\\anaconda3\\lib\\site-packages (from rich->keras>=3.0.0->tensorflow-intel==2.16.1->tensorflow<2.17,>=2.16->tf-keras) (2.17.2)\n",
            "Requirement already satisfied: mdurl~=0.1 in c:\\users\\destop\\anaconda3\\lib\\site-packages (from markdown-it-py>=2.2.0->rich->keras>=3.0.0->tensorflow-intel==2.16.1->tensorflow<2.17,>=2.16->tf-keras) (0.1.2)\n",
            "Note: you may need to restart the kernel to use updated packages.\n"
          ]
        }
      ],
      "source": [
        "pip install tf-keras"
      ]
    },
    {
      "cell_type": "code",
      "execution_count": null,
      "id": "996f5278-f211-45be-b821-2ceca1f77aac",
      "metadata": {
        "id": "996f5278-f211-45be-b821-2ceca1f77aac"
      },
      "outputs": [],
      "source": [
        "import os\n",
        "import pandas as pd\n",
        "import numpy as np\n",
        "import nltk\n",
        "from PIL import Image\n",
        "from nltk.corpus import stopwords\n",
        "from transformers import BertTokenizer, BertModel, TFBertModel\n",
        "from nltk.tokenize import word_tokenize\n",
        "from sklearn.feature_extraction.text import TfidfVectorizer\n",
        "from sklearn.preprocessing import LabelEncoder\n",
        "from tensorflow.keras.preprocessing import image\n",
        "import tensorflow as tf\n",
        "from tensorflow.keras.applications.vgg16 import preprocess_input\n",
        "from gensim.models import Word2Vec\n",
        "from gensim.models import KeyedVectors\n",
        "from tensorflow.keras.applications import VGG16\n",
        "from tensorflow.keras.models import Model\n",
        "from tensorflow.keras.layers import Input, Dense, Concatenate, Dropout, Flatten\n",
        "from tensorflow.keras.preprocessing import image\n",
        "from sklearn.metrics import accuracy_score, precision_score, recall_score, f1_score\n",
        "from sklearn.metrics import average_precision_score, ndcg_score\n",
        "from sklearn.metrics import average_precision_score, ndcg_score"
      ]
    },
    {
      "cell_type": "code",
      "execution_count": null,
      "id": "b88bb021-8bd6-495d-89c7-371956e175bd",
      "metadata": {
        "id": "b88bb021-8bd6-495d-89c7-371956e175bd"
      },
      "outputs": [],
      "source": [
        "data_path = \"Fashion model/Fashion Dataset v2.csv\"\n",
        "df = pd.read_csv(data_path)"
      ]
    },
    {
      "cell_type": "code",
      "execution_count": null,
      "id": "b75493b2-e449-4c9a-a4bc-7b841ad7dd46",
      "metadata": {
        "id": "b75493b2-e449-4c9a-a4bc-7b841ad7dd46",
        "outputId": "52f61123-5544-4708-a503-13b1ec883592"
      },
      "outputs": [
        {
          "data": {
            "text/html": [
              "<div>\n",
              "<style scoped>\n",
              "    .dataframe tbody tr th:only-of-type {\n",
              "        vertical-align: middle;\n",
              "    }\n",
              "\n",
              "    .dataframe tbody tr th {\n",
              "        vertical-align: top;\n",
              "    }\n",
              "\n",
              "    .dataframe thead th {\n",
              "        text-align: right;\n",
              "    }\n",
              "</style>\n",
              "<table border=\"1\" class=\"dataframe\">\n",
              "  <thead>\n",
              "    <tr style=\"text-align: right;\">\n",
              "      <th></th>\n",
              "      <th>p_id</th>\n",
              "      <th>name</th>\n",
              "      <th>products</th>\n",
              "      <th>price</th>\n",
              "      <th>colour</th>\n",
              "      <th>brand</th>\n",
              "      <th>img</th>\n",
              "      <th>ratingCount</th>\n",
              "      <th>avg_rating</th>\n",
              "      <th>description</th>\n",
              "      <th>p_attributes</th>\n",
              "    </tr>\n",
              "  </thead>\n",
              "  <tbody>\n",
              "    <tr>\n",
              "      <th>0</th>\n",
              "      <td>17048614</td>\n",
              "      <td>Khushal K Women Black Ethnic Motifs Printed Ku...</td>\n",
              "      <td>Kurta, Palazzos, Dupatta</td>\n",
              "      <td>5099.0</td>\n",
              "      <td>Black</td>\n",
              "      <td>Khushal K</td>\n",
              "      <td>http://assets.myntassets.com/assets/images/170...</td>\n",
              "      <td>4522.0</td>\n",
              "      <td>4.418399</td>\n",
              "      <td>Black printed Kurta with Palazzos with dupatta...</td>\n",
              "      <td>{'Add-Ons': 'NA', 'Body Shape ID': '443,333,32...</td>\n",
              "    </tr>\n",
              "    <tr>\n",
              "      <th>1</th>\n",
              "      <td>16524740</td>\n",
              "      <td>InWeave Women Orange Solid Kurta with Palazzos...</td>\n",
              "      <td>Kurta, Palazzos, Floral Print Dupatta</td>\n",
              "      <td>5899.0</td>\n",
              "      <td>Orange</td>\n",
              "      <td>InWeave</td>\n",
              "      <td>http://assets.myntassets.com/assets/images/165...</td>\n",
              "      <td>1081.0</td>\n",
              "      <td>4.119334</td>\n",
              "      <td>Orange solid Kurta with Palazzos with dupatta&lt;...</td>\n",
              "      <td>{'Add-Ons': 'NA', 'Body Shape ID': '443,333,32...</td>\n",
              "    </tr>\n",
              "    <tr>\n",
              "      <th>2</th>\n",
              "      <td>16331376</td>\n",
              "      <td>Anubhutee Women Navy Blue Ethnic Motifs Embroi...</td>\n",
              "      <td>Kurta, Trousers, Dupatta</td>\n",
              "      <td>4899.0</td>\n",
              "      <td>Navy Blue</td>\n",
              "      <td>Anubhutee</td>\n",
              "      <td>http://assets.myntassets.com/assets/images/163...</td>\n",
              "      <td>1752.0</td>\n",
              "      <td>4.161530</td>\n",
              "      <td>Navy blue embroidered Kurta with Trousers with...</td>\n",
              "      <td>{'Add-Ons': 'NA', 'Body Shape ID': '333,424', ...</td>\n",
              "    </tr>\n",
              "    <tr>\n",
              "      <th>3</th>\n",
              "      <td>14709966</td>\n",
              "      <td>Nayo Women Red Floral Printed Kurta With Trous...</td>\n",
              "      <td>Kurta, Trouser, Dupatta</td>\n",
              "      <td>3699.0</td>\n",
              "      <td>Red</td>\n",
              "      <td>Nayo</td>\n",
              "      <td>http://assets.myntassets.com/assets/images/147...</td>\n",
              "      <td>4113.0</td>\n",
              "      <td>4.088986</td>\n",
              "      <td>Red printed kurta with trouser and dupatta&lt;br&gt;...</td>\n",
              "      <td>{'Add-Ons': 'NA', 'Body Shape ID': '333,424', ...</td>\n",
              "    </tr>\n",
              "    <tr>\n",
              "      <th>4</th>\n",
              "      <td>11056154</td>\n",
              "      <td>AHIKA Women Black &amp; Green Printed Straight Kurta</td>\n",
              "      <td>Kurta</td>\n",
              "      <td>1350.0</td>\n",
              "      <td>Black</td>\n",
              "      <td>AHIKA</td>\n",
              "      <td>http://assets.myntassets.com/assets/images/110...</td>\n",
              "      <td>21274.0</td>\n",
              "      <td>3.978377</td>\n",
              "      <td>Black and green printed straight kurta, has a ...</td>\n",
              "      <td>{'Body Shape ID': '424', 'Body or Garment Size...</td>\n",
              "    </tr>\n",
              "  </tbody>\n",
              "</table>\n",
              "</div>"
            ],
            "text/plain": [
              "       p_id                                               name  \\\n",
              "0  17048614  Khushal K Women Black Ethnic Motifs Printed Ku...   \n",
              "1  16524740  InWeave Women Orange Solid Kurta with Palazzos...   \n",
              "2  16331376  Anubhutee Women Navy Blue Ethnic Motifs Embroi...   \n",
              "3  14709966  Nayo Women Red Floral Printed Kurta With Trous...   \n",
              "4  11056154   AHIKA Women Black & Green Printed Straight Kurta   \n",
              "\n",
              "                                products   price     colour      brand  \\\n",
              "0               Kurta, Palazzos, Dupatta  5099.0      Black  Khushal K   \n",
              "1  Kurta, Palazzos, Floral Print Dupatta  5899.0     Orange    InWeave   \n",
              "2               Kurta, Trousers, Dupatta  4899.0  Navy Blue  Anubhutee   \n",
              "3                Kurta, Trouser, Dupatta  3699.0        Red       Nayo   \n",
              "4                                  Kurta  1350.0      Black      AHIKA   \n",
              "\n",
              "                                                 img  ratingCount  avg_rating  \\\n",
              "0  http://assets.myntassets.com/assets/images/170...       4522.0    4.418399   \n",
              "1  http://assets.myntassets.com/assets/images/165...       1081.0    4.119334   \n",
              "2  http://assets.myntassets.com/assets/images/163...       1752.0    4.161530   \n",
              "3  http://assets.myntassets.com/assets/images/147...       4113.0    4.088986   \n",
              "4  http://assets.myntassets.com/assets/images/110...      21274.0    3.978377   \n",
              "\n",
              "                                         description  \\\n",
              "0  Black printed Kurta with Palazzos with dupatta...   \n",
              "1  Orange solid Kurta with Palazzos with dupatta<...   \n",
              "2  Navy blue embroidered Kurta with Trousers with...   \n",
              "3  Red printed kurta with trouser and dupatta<br>...   \n",
              "4  Black and green printed straight kurta, has a ...   \n",
              "\n",
              "                                        p_attributes  \n",
              "0  {'Add-Ons': 'NA', 'Body Shape ID': '443,333,32...  \n",
              "1  {'Add-Ons': 'NA', 'Body Shape ID': '443,333,32...  \n",
              "2  {'Add-Ons': 'NA', 'Body Shape ID': '333,424', ...  \n",
              "3  {'Add-Ons': 'NA', 'Body Shape ID': '333,424', ...  \n",
              "4  {'Body Shape ID': '424', 'Body or Garment Size...  "
            ]
          },
          "execution_count": 5,
          "metadata": {},
          "output_type": "execute_result"
        }
      ],
      "source": [
        "df.head(5)"
      ]
    },
    {
      "cell_type": "code",
      "execution_count": null,
      "id": "b74c9d68-a836-4cb0-aae0-42694fed1e0b",
      "metadata": {
        "id": "b74c9d68-a836-4cb0-aae0-42694fed1e0b",
        "outputId": "43bd3686-cc55-4f68-b9db-7bfff5528a6f"
      },
      "outputs": [
        {
          "name": "stderr",
          "output_type": "stream",
          "text": [
            "[nltk_data] Downloading package punkt to\n",
            "[nltk_data]     C:\\Users\\DESTOP\\AppData\\Roaming\\nltk_data...\n",
            "[nltk_data]   Package punkt is already up-to-date!\n",
            "[nltk_data] Downloading package stopwords to\n",
            "[nltk_data]     C:\\Users\\DESTOP\\AppData\\Roaming\\nltk_data...\n",
            "[nltk_data]   Package stopwords is already up-to-date!\n"
          ]
        }
      ],
      "source": [
        "nltk.download('punkt')\n",
        "nltk.download('stopwords')\n",
        "stop_words = set(stopwords.words('english'))"
      ]
    },
    {
      "cell_type": "code",
      "execution_count": null,
      "id": "cb1b2e8f-bd57-44ca-822f-0928cb38f5ec",
      "metadata": {
        "id": "cb1b2e8f-bd57-44ca-822f-0928cb38f5ec"
      },
      "outputs": [],
      "source": [
        "def preprocess_text(text):\n",
        "    tokens = word_tokenize(text)\n",
        "    tokens = [word.lower() for word in tokens if word.isalpha()]\n",
        "    tokens = [word for word in tokens if word not in stop_words]\n",
        "    return ' '.join(tokens)\n",
        "\n",
        "df['processed_description'] = df['description'].apply(preprocess_text)"
      ]
    },
    {
      "cell_type": "code",
      "execution_count": null,
      "id": "e5cd7539-9889-4d15-b015-ae430e9275ee",
      "metadata": {
        "id": "e5cd7539-9889-4d15-b015-ae430e9275ee"
      },
      "outputs": [],
      "source": [
        "label_encoders = {}\n",
        "categorical_cols = ['products', 'colour', 'brand']\n",
        "for col in categorical_cols:\n",
        "    le = LabelEncoder()\n",
        "    df[col + '_encoded'] = le.fit_transform(df[col])\n",
        "    label_encoders[col] = le"
      ]
    },
    {
      "cell_type": "code",
      "execution_count": null,
      "id": "b6fe3e98-03d6-45ba-a15f-315c1343b10f",
      "metadata": {
        "id": "b6fe3e98-03d6-45ba-a15f-315c1343b10f"
      },
      "outputs": [],
      "source": [
        "tfidf_vectorizer = TfidfVectorizer()\n",
        "tfidf_features = tfidf_vectorizer.fit_transform(df['processed_description'])"
      ]
    },
    {
      "cell_type": "code",
      "execution_count": null,
      "id": "a2b7b072-b7c3-488f-930b-625c62deb9db",
      "metadata": {
        "id": "a2b7b072-b7c3-488f-930b-625c62deb9db"
      },
      "outputs": [],
      "source": []
    },
    {
      "cell_type": "code",
      "execution_count": null,
      "id": "d4633bb8-ad3c-4320-b970-68edfe93e9c0",
      "metadata": {
        "id": "d4633bb8-ad3c-4320-b970-68edfe93e9c0"
      },
      "outputs": [],
      "source": [
        "image_dir = \"Fashion model/images\"\n",
        "os.makedirs(image_dir, exist_ok=True)"
      ]
    },
    {
      "cell_type": "code",
      "execution_count": null,
      "id": "acb57eff-aa45-4a87-80bf-aea22050a22d",
      "metadata": {
        "id": "acb57eff-aa45-4a87-80bf-aea22050a22d"
      },
      "outputs": [],
      "source": [
        "def image_exists(img_path):\n",
        "    return os.path.exists(img_path)"
      ]
    },
    {
      "cell_type": "code",
      "execution_count": null,
      "id": "d9d30c32-4de7-47e2-849f-e8651aa0b14b",
      "metadata": {
        "id": "d9d30c32-4de7-47e2-849f-e8651aa0b14b"
      },
      "outputs": [],
      "source": [
        "df['img_path'] = df['img'].apply(lambda x: os.path.join(image_dir, os.path.basename(x)))\n",
        "df = df[df['img_path'].apply(image_exists)]"
      ]
    },
    {
      "cell_type": "code",
      "execution_count": null,
      "id": "6eae1d3a-3eea-4171-a303-8764b1b391ad",
      "metadata": {
        "id": "6eae1d3a-3eea-4171-a303-8764b1b391ad"
      },
      "outputs": [],
      "source": [
        "def replace_missing_images(img_path):\n",
        "    if image_exists(img_path):\n",
        "        return img_path\n",
        "    else:\n",
        "        # Replace missing image with placeholder image\n",
        "        placeholder_img_path = \"path_to_placeholder_image.jpg\"  # Path to placeholder image\n",
        "        return placeholder_img_path\n",
        "\n",
        "df['img_path'] = df['img_path'].apply(replace_missing_images)"
      ]
    },
    {
      "cell_type": "code",
      "execution_count": null,
      "id": "3f323fee-c60c-4b34-93a7-afc215601d22",
      "metadata": {
        "id": "3f323fee-c60c-4b34-93a7-afc215601d22"
      },
      "outputs": [],
      "source": [
        "def load_and_resize_image(img_path, target_size=(224, 224)):\n",
        "    img = Image.open(img_path)\n",
        "    img = img.resize(target_size, resample=Image.LANCZOS)  # Use LANCZOS for resizing\n",
        "    img_array = np.array(img)\n",
        "    return img_array\n",
        "\n",
        "# Load and resize images\n",
        "image_data = np.array([load_and_resize_image(img_path) for img_path in df['img_path']])"
      ]
    },
    {
      "cell_type": "code",
      "execution_count": null,
      "id": "d7945948-647f-4435-810f-69e5e08ca534",
      "metadata": {
        "id": "d7945948-647f-4435-810f-69e5e08ca534",
        "outputId": "3a0611b1-8b4d-4a82-cb5a-5cc6d846158b"
      },
      "outputs": [
        {
          "name": "stdout",
          "output_type": "stream",
          "text": [
            "WARNING:tensorflow:From C:\\Users\\DESTOP\\anaconda3\\Lib\\site-packages\\tf_keras\\src\\backend.py:873: The name tf.get_default_graph is deprecated. Please use tf.compat.v1.get_default_graph instead.\n",
            "\n"
          ]
        },
        {
          "name": "stderr",
          "output_type": "stream",
          "text": [
            "Some weights of the PyTorch model were not used when initializing the TF 2.0 model TFBertModel: ['cls.predictions.transform.dense.weight', 'cls.predictions.transform.LayerNorm.weight', 'cls.predictions.bias', 'cls.seq_relationship.bias', 'cls.predictions.transform.LayerNorm.bias', 'cls.seq_relationship.weight', 'cls.predictions.transform.dense.bias', 'cls.predictions.decoder.weight']\n",
            "- This IS expected if you are initializing TFBertModel from a PyTorch model trained on another task or with another architecture (e.g. initializing a TFBertForSequenceClassification model from a BertForPreTraining model).\n",
            "- This IS NOT expected if you are initializing TFBertModel from a PyTorch model that you expect to be exactly identical (e.g. initializing a TFBertForSequenceClassification model from a BertForSequenceClassification model).\n",
            "All the weights of TFBertModel were initialized from the PyTorch model.\n",
            "If your task is similar to the task the model of the checkpoint was trained on, you can already use TFBertModel for predictions without further training.\n"
          ]
        }
      ],
      "source": [
        "bert_tokenizer = BertTokenizer.from_pretrained('archive (18)')\n",
        "bert_model = TFBertModel.from_pretrained('archive (18)', from_pt=True)"
      ]
    },
    {
      "cell_type": "code",
      "execution_count": null,
      "id": "39b17dd1-5276-491b-98c4-a84b45b99307",
      "metadata": {
        "id": "39b17dd1-5276-491b-98c4-a84b45b99307"
      },
      "outputs": [],
      "source": [
        "def extract_textual_features(text):\n",
        "    # Tokenize input text\n",
        "    input_ids = bert_tokenizer.encode(text, add_special_tokens=True, max_length=512, truncation=True, padding='max_length')\n",
        "    input_ids = tf.constant([input_ids])\n",
        "    # Obtain BERT embeddings\n",
        "    outputs = bert_model(input_ids)\n",
        "    pooled_output = outputs[1]  # Use pooled_output for sentence-level embeddings\n",
        "    return pooled_output.numpy()"
      ]
    },
    {
      "cell_type": "code",
      "execution_count": null,
      "id": "a5aa8c04-90d6-4e3c-9d58-cb5637475824",
      "metadata": {
        "id": "a5aa8c04-90d6-4e3c-9d58-cb5637475824"
      },
      "outputs": [],
      "source": [
        "def extract_visual_features(image_data):\n",
        "    # Load pre-trained VGG16 model without top layers\n",
        "    base_model = VGG16(weights='imagenet', include_top=False, pooling='avg')\n",
        "    # Preprocess input images for VGG16\n",
        "    preprocessed_images = preprocess_input(image_data)\n",
        "    # Extract features using VGG16\n",
        "    visual_features = base_model.predict(preprocessed_images)\n",
        "    return visual_features"
      ]
    },
    {
      "cell_type": "code",
      "execution_count": null,
      "id": "be15d2c2-0f43-4510-a1df-a068aa5b8b16",
      "metadata": {
        "id": "be15d2c2-0f43-4510-a1df-a068aa5b8b16"
      },
      "outputs": [],
      "source": [
        "textual_features = np.array([extract_textual_features(description) for description in df['processed_description']])"
      ]
    },
    {
      "cell_type": "code",
      "execution_count": null,
      "id": "52c093a1-082b-4db7-b425-3d6fbaa63c49",
      "metadata": {
        "id": "52c093a1-082b-4db7-b425-3d6fbaa63c49",
        "outputId": "12872e59-4089-4e85-b820-f62814636eb0"
      },
      "outputs": [
        {
          "name": "stdout",
          "output_type": "stream",
          "text": [
            "\u001b[1m18/18\u001b[0m \u001b[32m━━━━━━━━━━━━━━━━━━━━\u001b[0m\u001b[37m\u001b[0m \u001b[1m87s\u001b[0m 5s/step\n"
          ]
        }
      ],
      "source": [
        "visual_features = extract_visual_features(image_data)"
      ]
    },
    {
      "cell_type": "code",
      "execution_count": null,
      "id": "8bf85c99-5417-4166-a954-0bf24bcafe05",
      "metadata": {
        "id": "8bf85c99-5417-4166-a954-0bf24bcafe05"
      },
      "outputs": [],
      "source": [
        "flattened_textual_features = Flatten()(textual_features)"
      ]
    },
    {
      "cell_type": "code",
      "execution_count": null,
      "id": "c1849945-a8b8-4638-9b48-16f07376806e",
      "metadata": {
        "id": "c1849945-a8b8-4638-9b48-16f07376806e"
      },
      "outputs": [],
      "source": [
        "concatenated_features = Concatenate(axis=1)([flattened_textual_features, visual_features])"
      ]
    },
    {
      "cell_type": "code",
      "execution_count": null,
      "id": "5e48908b-755c-4a3f-baa7-d4fbc537951b",
      "metadata": {
        "id": "5e48908b-755c-4a3f-baa7-d4fbc537951b"
      },
      "outputs": [],
      "source": [
        "def build_recommendation_model(input_shape):\n",
        "    # Define input layer\n",
        "    input_layer = Input(shape=input_shape)\n",
        "\n",
        "    # Fully connected layers\n",
        "    x = Dense(512, activation='relu')(input_layer)\n",
        "    x = Dropout(0.3)(x)\n",
        "    x = Dense(256, activation='relu')(x)\n",
        "    x = Dropout(0.3)(x)\n",
        "    x = Dense(128, activation='relu')(x)\n",
        "\n",
        "    # Output layer\n",
        "    output_layer = Dense(1, activation='sigmoid')(x)  # Binary classification (e.g., purchase intent)\n",
        "\n",
        "    # Define model\n",
        "    model = Model(inputs=input_layer, outputs=output_layer)\n",
        "    return model"
      ]
    },
    {
      "cell_type": "code",
      "execution_count": null,
      "id": "565b3454-d406-43a0-a4d9-aa4393aae888",
      "metadata": {
        "id": "565b3454-d406-43a0-a4d9-aa4393aae888"
      },
      "outputs": [],
      "source": [
        "recommendation_model = build_recommendation_model(concatenated_features.shape[1:])"
      ]
    },
    {
      "cell_type": "code",
      "execution_count": null,
      "id": "cfef63f9-bba4-4e1c-a059-069c1ef8a2ed",
      "metadata": {
        "id": "cfef63f9-bba4-4e1c-a059-069c1ef8a2ed"
      },
      "outputs": [],
      "source": [
        "recommendation_model.compile(optimizer='adam', loss='binary_crossentropy', metrics=['accuracy'])"
      ]
    },
    {
      "cell_type": "code",
      "execution_count": null,
      "id": "37b6d753-15b1-47f0-8650-b043b3bcea28",
      "metadata": {
        "id": "37b6d753-15b1-47f0-8650-b043b3bcea28",
        "outputId": "fc824dfb-8644-4592-f5e6-7c3ef2386c59"
      },
      "outputs": [
        {
          "data": {
            "text/html": [
              "<pre style=\"white-space:pre;overflow-x:auto;line-height:normal;font-family:Menlo,'DejaVu Sans Mono',consolas,'Courier New',monospace\"><span style=\"font-weight: bold\">Model: \"functional_1\"</span>\n",
              "</pre>\n"
            ],
            "text/plain": [
              "\u001b[1mModel: \"functional_1\"\u001b[0m\n"
            ]
          },
          "metadata": {},
          "output_type": "display_data"
        },
        {
          "data": {
            "text/html": [
              "<pre style=\"white-space:pre;overflow-x:auto;line-height:normal;font-family:Menlo,'DejaVu Sans Mono',consolas,'Courier New',monospace\">┏━━━━━━━━━━━━━━━━━━━━━━━━━━━━━━━━━┳━━━━━━━━━━━━━━━━━━━━━━━━┳━━━━━━━━━━━━━━━┓\n",
              "┃<span style=\"font-weight: bold\"> Layer (type)                    </span>┃<span style=\"font-weight: bold\"> Output Shape           </span>┃<span style=\"font-weight: bold\">       Param # </span>┃\n",
              "┡━━━━━━━━━━━━━━━━━━━━━━━━━━━━━━━━━╇━━━━━━━━━━━━━━━━━━━━━━━━╇━━━━━━━━━━━━━━━┩\n",
              "│ input_layer_4 (<span style=\"color: #0087ff; text-decoration-color: #0087ff\">InputLayer</span>)      │ (<span style=\"color: #00d7ff; text-decoration-color: #00d7ff\">None</span>, <span style=\"color: #00af00; text-decoration-color: #00af00\">1280</span>)           │             <span style=\"color: #00af00; text-decoration-color: #00af00\">0</span> │\n",
              "├─────────────────────────────────┼────────────────────────┼───────────────┤\n",
              "│ dense (<span style=\"color: #0087ff; text-decoration-color: #0087ff\">Dense</span>)                   │ (<span style=\"color: #00d7ff; text-decoration-color: #00d7ff\">None</span>, <span style=\"color: #00af00; text-decoration-color: #00af00\">512</span>)            │       <span style=\"color: #00af00; text-decoration-color: #00af00\">655,872</span> │\n",
              "├─────────────────────────────────┼────────────────────────┼───────────────┤\n",
              "│ dropout (<span style=\"color: #0087ff; text-decoration-color: #0087ff\">Dropout</span>)               │ (<span style=\"color: #00d7ff; text-decoration-color: #00d7ff\">None</span>, <span style=\"color: #00af00; text-decoration-color: #00af00\">512</span>)            │             <span style=\"color: #00af00; text-decoration-color: #00af00\">0</span> │\n",
              "├─────────────────────────────────┼────────────────────────┼───────────────┤\n",
              "│ dense_1 (<span style=\"color: #0087ff; text-decoration-color: #0087ff\">Dense</span>)                 │ (<span style=\"color: #00d7ff; text-decoration-color: #00d7ff\">None</span>, <span style=\"color: #00af00; text-decoration-color: #00af00\">256</span>)            │       <span style=\"color: #00af00; text-decoration-color: #00af00\">131,328</span> │\n",
              "├─────────────────────────────────┼────────────────────────┼───────────────┤\n",
              "│ dropout_1 (<span style=\"color: #0087ff; text-decoration-color: #0087ff\">Dropout</span>)             │ (<span style=\"color: #00d7ff; text-decoration-color: #00d7ff\">None</span>, <span style=\"color: #00af00; text-decoration-color: #00af00\">256</span>)            │             <span style=\"color: #00af00; text-decoration-color: #00af00\">0</span> │\n",
              "├─────────────────────────────────┼────────────────────────┼───────────────┤\n",
              "│ dense_2 (<span style=\"color: #0087ff; text-decoration-color: #0087ff\">Dense</span>)                 │ (<span style=\"color: #00d7ff; text-decoration-color: #00d7ff\">None</span>, <span style=\"color: #00af00; text-decoration-color: #00af00\">128</span>)            │        <span style=\"color: #00af00; text-decoration-color: #00af00\">32,896</span> │\n",
              "├─────────────────────────────────┼────────────────────────┼───────────────┤\n",
              "│ dense_3 (<span style=\"color: #0087ff; text-decoration-color: #0087ff\">Dense</span>)                 │ (<span style=\"color: #00d7ff; text-decoration-color: #00d7ff\">None</span>, <span style=\"color: #00af00; text-decoration-color: #00af00\">1</span>)              │           <span style=\"color: #00af00; text-decoration-color: #00af00\">129</span> │\n",
              "└─────────────────────────────────┴────────────────────────┴───────────────┘\n",
              "</pre>\n"
            ],
            "text/plain": [
              "┏━━━━━━━━━━━━━━━━━━━━━━━━━━━━━━━━━┳━━━━━━━━━━━━━━━━━━━━━━━━┳━━━━━━━━━━━━━━━┓\n",
              "┃\u001b[1m \u001b[0m\u001b[1mLayer (type)                   \u001b[0m\u001b[1m \u001b[0m┃\u001b[1m \u001b[0m\u001b[1mOutput Shape          \u001b[0m\u001b[1m \u001b[0m┃\u001b[1m \u001b[0m\u001b[1m      Param #\u001b[0m\u001b[1m \u001b[0m┃\n",
              "┡━━━━━━━━━━━━━━━━━━━━━━━━━━━━━━━━━╇━━━━━━━━━━━━━━━━━━━━━━━━╇━━━━━━━━━━━━━━━┩\n",
              "│ input_layer_4 (\u001b[38;5;33mInputLayer\u001b[0m)      │ (\u001b[38;5;45mNone\u001b[0m, \u001b[38;5;34m1280\u001b[0m)           │             \u001b[38;5;34m0\u001b[0m │\n",
              "├─────────────────────────────────┼────────────────────────┼───────────────┤\n",
              "│ dense (\u001b[38;5;33mDense\u001b[0m)                   │ (\u001b[38;5;45mNone\u001b[0m, \u001b[38;5;34m512\u001b[0m)            │       \u001b[38;5;34m655,872\u001b[0m │\n",
              "├─────────────────────────────────┼────────────────────────┼───────────────┤\n",
              "│ dropout (\u001b[38;5;33mDropout\u001b[0m)               │ (\u001b[38;5;45mNone\u001b[0m, \u001b[38;5;34m512\u001b[0m)            │             \u001b[38;5;34m0\u001b[0m │\n",
              "├─────────────────────────────────┼────────────────────────┼───────────────┤\n",
              "│ dense_1 (\u001b[38;5;33mDense\u001b[0m)                 │ (\u001b[38;5;45mNone\u001b[0m, \u001b[38;5;34m256\u001b[0m)            │       \u001b[38;5;34m131,328\u001b[0m │\n",
              "├─────────────────────────────────┼────────────────────────┼───────────────┤\n",
              "│ dropout_1 (\u001b[38;5;33mDropout\u001b[0m)             │ (\u001b[38;5;45mNone\u001b[0m, \u001b[38;5;34m256\u001b[0m)            │             \u001b[38;5;34m0\u001b[0m │\n",
              "├─────────────────────────────────┼────────────────────────┼───────────────┤\n",
              "│ dense_2 (\u001b[38;5;33mDense\u001b[0m)                 │ (\u001b[38;5;45mNone\u001b[0m, \u001b[38;5;34m128\u001b[0m)            │        \u001b[38;5;34m32,896\u001b[0m │\n",
              "├─────────────────────────────────┼────────────────────────┼───────────────┤\n",
              "│ dense_3 (\u001b[38;5;33mDense\u001b[0m)                 │ (\u001b[38;5;45mNone\u001b[0m, \u001b[38;5;34m1\u001b[0m)              │           \u001b[38;5;34m129\u001b[0m │\n",
              "└─────────────────────────────────┴────────────────────────┴───────────────┘\n"
            ]
          },
          "metadata": {},
          "output_type": "display_data"
        },
        {
          "data": {
            "text/html": [
              "<pre style=\"white-space:pre;overflow-x:auto;line-height:normal;font-family:Menlo,'DejaVu Sans Mono',consolas,'Courier New',monospace\"><span style=\"font-weight: bold\"> Total params: </span><span style=\"color: #00af00; text-decoration-color: #00af00\">820,225</span> (3.13 MB)\n",
              "</pre>\n"
            ],
            "text/plain": [
              "\u001b[1m Total params: \u001b[0m\u001b[38;5;34m820,225\u001b[0m (3.13 MB)\n"
            ]
          },
          "metadata": {},
          "output_type": "display_data"
        },
        {
          "data": {
            "text/html": [
              "<pre style=\"white-space:pre;overflow-x:auto;line-height:normal;font-family:Menlo,'DejaVu Sans Mono',consolas,'Courier New',monospace\"><span style=\"font-weight: bold\"> Trainable params: </span><span style=\"color: #00af00; text-decoration-color: #00af00\">820,225</span> (3.13 MB)\n",
              "</pre>\n"
            ],
            "text/plain": [
              "\u001b[1m Trainable params: \u001b[0m\u001b[38;5;34m820,225\u001b[0m (3.13 MB)\n"
            ]
          },
          "metadata": {},
          "output_type": "display_data"
        },
        {
          "data": {
            "text/html": [
              "<pre style=\"white-space:pre;overflow-x:auto;line-height:normal;font-family:Menlo,'DejaVu Sans Mono',consolas,'Courier New',monospace\"><span style=\"font-weight: bold\"> Non-trainable params: </span><span style=\"color: #00af00; text-decoration-color: #00af00\">0</span> (0.00 B)\n",
              "</pre>\n"
            ],
            "text/plain": [
              "\u001b[1m Non-trainable params: \u001b[0m\u001b[38;5;34m0\u001b[0m (0.00 B)\n"
            ]
          },
          "metadata": {},
          "output_type": "display_data"
        }
      ],
      "source": [
        "recommendation_model.summary()"
      ]
    },
    {
      "cell_type": "code",
      "execution_count": null,
      "id": "34db85a5-ef7f-4f6d-a27c-16bb23d19536",
      "metadata": {
        "id": "34db85a5-ef7f-4f6d-a27c-16bb23d19536"
      },
      "outputs": [],
      "source": [
        "label_encoder = LabelEncoder()\n",
        "df['encoded_labels'] = label_encoder.fit_transform(df['name'])"
      ]
    },
    {
      "cell_type": "code",
      "execution_count": null,
      "id": "6c7e9066-d5bf-4d65-a9c0-d288947f82d3",
      "metadata": {
        "id": "6c7e9066-d5bf-4d65-a9c0-d288947f82d3",
        "outputId": "9dffa385-a7c2-4adc-d419-dfef1c9cffaf"
      },
      "outputs": [
        {
          "name": "stdout",
          "output_type": "stream",
          "text": [
            "Epoch 1/10\n",
            "\u001b[1m14/14\u001b[0m \u001b[32m━━━━━━━━━━━━━━━━━━━━\u001b[0m\u001b[37m\u001b[0m \u001b[1m1s\u001b[0m 26ms/step - accuracy: 0.0038 - loss: -35186.7891 - val_accuracy: 0.0000e+00 - val_loss: -381420.9375\n",
            "Epoch 2/10\n",
            "\u001b[1m14/14\u001b[0m \u001b[32m━━━━━━━━━━━━━━━━━━━━\u001b[0m\u001b[37m\u001b[0m \u001b[1m0s\u001b[0m 11ms/step - accuracy: 0.0015 - loss: -884249.1875 - val_accuracy: 0.0000e+00 - val_loss: -4043058.5000\n",
            "Epoch 3/10\n",
            "\u001b[1m14/14\u001b[0m \u001b[32m━━━━━━━━━━━━━━━━━━━━\u001b[0m\u001b[37m\u001b[0m \u001b[1m0s\u001b[0m 11ms/step - accuracy: 2.9828e-04 - loss: -6963955.5000 - val_accuracy: 0.0000e+00 - val_loss: -21061970.0000\n",
            "Epoch 4/10\n",
            "\u001b[1m14/14\u001b[0m \u001b[32m━━━━━━━━━━━━━━━━━━━━\u001b[0m\u001b[37m\u001b[0m \u001b[1m0s\u001b[0m 10ms/step - accuracy: 6.3215e-04 - loss: -30928480.0000 - val_accuracy: 0.0000e+00 - val_loss: -75413680.0000\n",
            "Epoch 5/10\n",
            "\u001b[1m14/14\u001b[0m \u001b[32m━━━━━━━━━━━━━━━━━━━━\u001b[0m\u001b[37m\u001b[0m \u001b[1m0s\u001b[0m 11ms/step - accuracy: 0.0026 - loss: -102030544.0000 - val_accuracy: 0.0000e+00 - val_loss: -212732976.0000\n",
            "Epoch 6/10\n",
            "\u001b[1m14/14\u001b[0m \u001b[32m━━━━━━━━━━━━━━━━━━━━\u001b[0m\u001b[37m\u001b[0m \u001b[1m0s\u001b[0m 11ms/step - accuracy: 0.0026 - loss: -263889184.0000 - val_accuracy: 0.0000e+00 - val_loss: -506437344.0000\n",
            "Epoch 7/10\n",
            "\u001b[1m14/14\u001b[0m \u001b[32m━━━━━━━━━━━━━━━━━━━━\u001b[0m\u001b[37m\u001b[0m \u001b[1m0s\u001b[0m 10ms/step - accuracy: 6.3215e-04 - loss: -611595136.0000 - val_accuracy: 0.0000e+00 - val_loss: -1063526144.0000\n",
            "Epoch 8/10\n",
            "\u001b[1m14/14\u001b[0m \u001b[32m━━━━━━━━━━━━━━━━━━━━\u001b[0m\u001b[37m\u001b[0m \u001b[1m0s\u001b[0m 11ms/step - accuracy: 0.0013 - loss: -1196638720.0000 - val_accuracy: 0.0000e+00 - val_loss: -2024239872.0000\n",
            "Epoch 9/10\n",
            "\u001b[1m14/14\u001b[0m \u001b[32m━━━━━━━━━━━━━━━━━━━━\u001b[0m\u001b[37m\u001b[0m \u001b[1m0s\u001b[0m 13ms/step - accuracy: 0.0018 - loss: -2334876928.0000 - val_accuracy: 0.0000e+00 - val_loss: -3585415168.0000\n",
            "Epoch 10/10\n",
            "\u001b[1m14/14\u001b[0m \u001b[32m━━━━━━━━━━━━━━━━━━━━\u001b[0m\u001b[37m\u001b[0m \u001b[1m0s\u001b[0m 12ms/step - accuracy: 0.0038 - loss: -4186604800.0000 - val_accuracy: 0.0000e+00 - val_loss: -5965536256.0000\n"
          ]
        }
      ],
      "source": [
        "history = recommendation_model.fit(concatenated_features, df['encoded_labels'], epochs=10, batch_size=32, validation_split=0.2)"
      ]
    },
    {
      "cell_type": "code",
      "execution_count": null,
      "id": "d31de2c5-1078-4e0e-b2bc-be9b751efb63",
      "metadata": {
        "id": "d31de2c5-1078-4e0e-b2bc-be9b751efb63",
        "outputId": "ed09c118-6306-4e60-db43-2c5188746736"
      },
      "outputs": [
        {
          "name": "stdout",
          "output_type": "stream",
          "text": [
            "\u001b[1m18/18\u001b[0m \u001b[32m━━━━━━━━━━━━━━━━━━━━\u001b[0m\u001b[37m\u001b[0m \u001b[1m0s\u001b[0m 2ms/step - accuracy: 0.0012 - loss: -5831860736.0000     \n",
            "Validation Loss: -5887320576.0, Validation Accuracy: 0.001788908732123673\n"
          ]
        }
      ],
      "source": [
        "loss, accuracy = recommendation_model.evaluate(concatenated_features, df['encoded_labels'])\n",
        "print(f\"Validation Loss: {loss}, Validation Accuracy: {accuracy}\")"
      ]
    },
    {
      "cell_type": "code",
      "execution_count": null,
      "id": "80de661c-81b7-4bdc-abb0-10426d6b4448",
      "metadata": {
        "id": "80de661c-81b7-4bdc-abb0-10426d6b4448",
        "outputId": "c73ea900-078b-483d-a3ca-09ce135ccf0b"
      },
      "outputs": [
        {
          "data": {
            "image/png": "[encoded data removed]",
            "text/plain": [
              "<Figure size 640x480 with 1 Axes>"
            ]
          },
          "metadata": {},
          "output_type": "display_data"
        }
      ],
      "source": [
        "import matplotlib.pyplot as plt\n",
        "\n",
        "plt.plot(history.history['loss'], label='Training Loss')\n",
        "plt.plot(history.history['val_loss'], label='Validation Loss')\n",
        "plt.xlabel('Epochs')\n",
        "plt.ylabel('Loss')\n",
        "plt.legend()\n",
        "plt.show()"
      ]
    },
    {
      "cell_type": "code",
      "execution_count": null,
      "id": "b04795e4-df2f-4e41-891f-30cfa8a4565e",
      "metadata": {
        "id": "b04795e4-df2f-4e41-891f-30cfa8a4565e",
        "outputId": "f1e7e63c-7c15-4e94-ceb1-0bbf8ffb17b4"
      },
      "outputs": [
        {
          "name": "stdout",
          "output_type": "stream",
          "text": [
            "\u001b[1m18/18\u001b[0m \u001b[32m━━━━━━━━━━━━━━━━━━━━\u001b[0m\u001b[37m\u001b[0m \u001b[1m0s\u001b[0m 5ms/step\n"
          ]
        }
      ],
      "source": [
        "val_predictions = recommendation_model.predict(concatenated_features)"
      ]
    },
    {
      "cell_type": "code",
      "execution_count": null,
      "id": "e39add69-141f-4397-8797-57c62e00dd76",
      "metadata": {
        "id": "e39add69-141f-4397-8797-57c62e00dd76"
      },
      "outputs": [],
      "source": [
        "val_predictions_binary = (val_predictions > 0.5).astype(int)"
      ]
    },
    {
      "cell_type": "code",
      "execution_count": null,
      "id": "9ab5b752-988e-470a-9787-448312f693c2",
      "metadata": {
        "id": "9ab5b752-988e-470a-9787-448312f693c2",
        "outputId": "cd3abcee-394e-4306-f320-d62d9f07cd90"
      },
      "outputs": [
        {
          "name": "stderr",
          "output_type": "stream",
          "text": [
            "C:\\Users\\DESTOP\\anaconda3\\Lib\\site-packages\\sklearn\\metrics\\_classification.py:1344: UndefinedMetricWarning: Precision is ill-defined and being set to 0.0 in labels with no predicted samples. Use `zero_division` parameter to control this behavior.\n",
            "  _warn_prf(average, modifier, msg_start, len(result))\n"
          ]
        }
      ],
      "source": [
        "ccuracy = accuracy_score(df['encoded_labels'], val_predictions_binary)\n",
        "precision = precision_score(df['encoded_labels'], val_predictions_binary, average='weighted')\n",
        "recall = recall_score(df['encoded_labels'], val_predictions_binary, average='weighted')\n",
        "f1 = f1_score(df['encoded_labels'], val_predictions_binary, average='weighted')"
      ]
    },
    {
      "cell_type": "code",
      "execution_count": null,
      "id": "fa06f2cc-cc44-440c-9429-f691f574b808",
      "metadata": {
        "id": "fa06f2cc-cc44-440c-9429-f691f574b808",
        "outputId": "bc67c66f-d5bd-42cf-f968-3013e63a86cb"
      },
      "outputs": [
        {
          "name": "stdout",
          "output_type": "stream",
          "text": [
            "Accuracy: 0.001788908732123673\n",
            "Precision: 3.200194571829967e-06\n",
            "Recall: 0.0017889087656529517\n",
            "F1-score: 6.388959877331971e-06\n",
            "Mean Average Precision (MAP): <function average_precision_score at 0x0000026EBA242520>\n",
            "Normalized Discounted Cumulative Gain (NDCG): <function ndcg_score at 0x0000026EBA243100>\n"
          ]
        }
      ],
      "source": [
        "print(f\"Accuracy: {accuracy}\")\n",
        "print(f\"Precision: {precision}\")\n",
        "print(f\"Recall: {recall}\")\n",
        "print(f\"F1-score: {f1}\")\n",
        "print(f\"Mean Average Precision (MAP): {average_precision_score}\")\n",
        "print(f\"Normalized Discounted Cumulative Gain (NDCG): {ndcg_score}\")"
      ]
    },
    {
      "cell_type": "code",
      "execution_count": null,
      "id": "18c451bf-f1bd-4625-a77d-89ce72b12ef5",
      "metadata": {
        "id": "18c451bf-f1bd-4625-a77d-89ce72b12ef5",
        "outputId": "d4e07cb0-4a7f-4bf2-87c2-9d0ed0c97e70"
      },
      "outputs": [
        {
          "name": "stderr",
          "output_type": "stream",
          "text": [
            "WARNING:absl:You are saving your model as an HDF5 file via `model.save()` or `keras.saving.save_model(model)`. This file format is considered legacy. We recommend using instead the native Keras format, e.g. `model.save('my_model.keras')` or `keras.saving.save_model(model, 'my_model.keras')`. \n"
          ]
        }
      ],
      "source": [
        "from keras.models import load_model\n",
        "recommendation_model.save('recommendation_model.h5')"
      ]
    }
  ],
  "metadata": {
    "kernelspec": {
      "display_name": "Python 3 (ipykernel)",
      "language": "python",
      "name": "python3"
    },
    "language_info": {
      "codemirror_mode": {
        "name": "ipython",
        "version": 3
      },
      "file_extension": ".py",
      "mimetype": "text/x-python",
      "name": "python",
      "nbconvert_exporter": "python",
      "pygments_lexer": "ipython3",
      "version": "3.11.7"
    },
    "colab": {
      "provenance": [],
      "include_colab_link": true
    }
  },
  "nbformat": 4,
  "nbformat_minor": 5
}