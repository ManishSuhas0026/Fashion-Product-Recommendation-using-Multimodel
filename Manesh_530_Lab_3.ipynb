{
  "nbformat": 4,
  "nbformat_minor": 0,
  "metadata": {
    "colab": {
      "provenance": []
    },
    "kernelspec": {
      "name": "python3",
      "display_name": "Python 3"
    },
    "language_info": {
      "name": "python"
    }
  },
  "cells": [
    {
      "cell_type": "code",
      "execution_count": 1,
      "metadata": {
        "colab": {
          "base_uri": "https://localhost:8080/"
        },
        "id": "-uNR7Fj93YqJ",
        "outputId": "67caf4f2-67af-4db8-c8a0-c872a13c6c3d"
      },
      "outputs": [
        {
          "output_type": "stream",
          "name": "stderr",
          "text": [
            "[nltk_data] Downloading package punkt to /root/nltk_data...\n",
            "[nltk_data]   Unzipping tokenizers/punkt.zip.\n"
          ]
        }
      ],
      "source": [
        "import nltk\n",
        "nltk.download('punkt')\n",
        "\n",
        "from nltk.tokenize import word_tokenize"
      ]
    },
    {
      "cell_type": "code",
      "source": [
        "hindi_text = \"धूप में जाने से पहले, कृपया कैप, चश्मा, और सनस्क्रीन लगाएं। यह सुनिश्चित करेगा कि आपकी त्वचा सुरक्षित रहे। बच्चों को सूरज की किरणों से बचाने के लिए उन्हें भी धूप के समय सुरक्षित रखना चाहिए।\"\n",
        "tokens = word_tokenize(hindi_text)\n",
        "\n",
        "print(tokens)"
      ],
      "metadata": {
        "colab": {
          "base_uri": "https://localhost:8080/"
        },
        "id": "OLz-Cxaz3iau",
        "outputId": "e4d2ce55-db74-4221-bb28-a654925c314a"
      },
      "execution_count": 2,
      "outputs": [
        {
          "output_type": "stream",
          "name": "stdout",
          "text": [
            "['धूप', 'में', 'जाने', 'से', 'पहले', ',', 'कृपया', 'कैप', ',', 'चश्मा', ',', 'और', 'सनस्क्रीन', 'लगाएं।', 'यह', 'सुनिश्चित', 'करेगा', 'कि', 'आपकी', 'त्वचा', 'सुरक्षित', 'रहे।', 'बच्चों', 'को', 'सूरज', 'की', 'किरणों', 'से', 'बचाने', 'के', 'लिए', 'उन्हें', 'भी', 'धूप', 'के', 'समय', 'सुरक्षित', 'रखना', 'चाहिए।']\n"
          ]
        }
      ]
    },
    {
      "cell_type": "code",
      "source": [
        "spanish_text = \"La educación es el pasaporte hacia el futuro, porque el mañana pertenece a aquellos que se preparan hoy.\"\n",
        "tokens = word_tokenize(spanish_text, language='spanish')\n",
        "\n",
        "print(tokens)\n",
        ""
      ],
      "metadata": {
        "colab": {
          "base_uri": "https://localhost:8080/"
        },
        "id": "uycyefZy3lZG",
        "outputId": "ccfdb79e-0041-4bb8-a864-8ab28d930830"
      },
      "execution_count": 3,
      "outputs": [
        {
          "output_type": "stream",
          "name": "stdout",
          "text": [
            "['La', 'educación', 'es', 'el', 'pasaporte', 'hacia', 'el', 'futuro', ',', 'porque', 'el', 'mañana', 'pertenece', 'a', 'aquellos', 'que', 'se', 'preparan', 'hoy', '.']\n"
          ]
        }
      ]
    }
  ]
}